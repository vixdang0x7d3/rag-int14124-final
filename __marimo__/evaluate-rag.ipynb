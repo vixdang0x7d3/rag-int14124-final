{
 "cells": [
  {
   "cell_type": "code",
   "execution_count": null,
   "id": "Hbol",
   "metadata": {},
   "outputs": [],
   "source": [
    "import marimo as mo"
   ]
  },
  {
   "cell_type": "markdown",
   "id": "MJUe",
   "metadata": {
    "marimo": {
     "config": {
      "hide_code": true
     }
    }
   },
   "source": [
    "Install the ChromaDB Evaluation Framework package\n",
    "\n",
    "For `pip` users:\n",
    "\n",
    "\n",
    "```\n",
    "pip add git+https://github.com/brandonstarxel/chunking_evaluation.git\n",
    "```"
   ]
  },
  {
   "cell_type": "code",
   "execution_count": null,
   "id": "vblA",
   "metadata": {},
   "outputs": [
    {
     "name": "stdout",
     "output_type": "stream",
     "text": [
      "Using CUDA ? YES\n",
      "GPU: NVIDIA GeForce GTX 1660 Ti\n"
     ]
    }
   ],
   "source": [
    "import torch\n",
    "\n",
    "device = 'cuda' if torch.cuda.is_available else 'cpu'\n",
    "print(f\"Using CUDA ? {'YES' if device == 'cuda' else 'NO'}\")\n",
    "if device:\n",
    "    print(f\"GPU: {torch.cuda.get_device_name(0)}\")"
   ]
  },
  {
   "cell_type": "markdown",
   "id": "bkHC",
   "metadata": {
    "marimo": {
     "config": {
      "hide_code": true
     }
    }
   },
   "source": [
    "### Import and dependencies"
   ]
  },
  {
   "cell_type": "code",
   "execution_count": null,
   "id": "lEQa",
   "metadata": {},
   "outputs": [],
   "source": [
    "import os\n",
    "import pandas as pd\n",
    "\n",
    "from chunking_evaluation import GeneralEvaluation, SyntheticEvaluation, BaseChunker\n",
    "from chromadb.utils import embedding_functions"
   ]
  },
  {
   "cell_type": "markdown",
   "id": "PKri",
   "metadata": {
    "marimo": {
     "config": {
      "hide_code": true
     }
    }
   },
   "source": [
    "### Naive chunking stratergy\n",
    "\n",
    "We'll use the `BaseChunker` class to define our own. At it's core `BaseChunker` is very simple:\n",
    "\n",
    "```python\n",
    "class BaseChunker(ABC):\n",
    "    @abstractmethod\n",
    "    def split_text(self, text: str) -> list[str]:\n",
    "        pass\n",
    "```\n",
    "\n",
    "It expects only a `split_text` method that can take in a string and return a list of strings, which is our chunks. The transformation along the way can be more creatively defined.\n",
    "\n",
    "We'll use this as a base to reimplement our naive chunker."
   ]
  },
  {
   "cell_type": "code",
   "execution_count": null,
   "id": "Xref",
   "metadata": {},
   "outputs": [],
   "source": [
    "from spacy.lang.en import English\n",
    "\n",
    "\n",
    "class SentenceChunker(BaseChunker):\n",
    "    def __init__(self, sentences_per_chunk: int = 3):\n",
    "        self.sentences_per_chunk = sentences_per_chunk\n",
    "        self.nlp = English()\n",
    "        self.nlp.add_pipe(\"sentencizer\")\n",
    "\n",
    "    def split_text(self, text: str) -> list[str]:\n",
    "        chunk_size = self.sentences_per_chunk\n",
    "\n",
    "        if not text:\n",
    "            return []\n",
    "\n",
    "        sentences = list(self.nlp(text).sents)\n",
    "        sentences = [str(sent) for sent in sentences]\n",
    "\n",
    "        chunks = []\n",
    "\n",
    "        for i in range(0, len(sentences), chunk_size):\n",
    "            chunk = ' '.join(sentences[i:i+chunk_size])\n",
    "            chunks.append(chunk)\n",
    "\n",
    "        return chunks"
   ]
  },
  {
   "cell_type": "markdown",
   "id": "SFPL",
   "metadata": {
    "marimo": {
     "config": {
      "hide_code": true
     }
    }
   },
   "source": [
    "### Defining a embedding function and chunker"
   ]
  },
  {
   "cell_type": "code",
   "execution_count": null,
   "id": "BYtC",
   "metadata": {},
   "outputs": [
    {
     "data": {
      "text/html": [
       "<pre style='font-size: 12px'>&#x27;SentenceTransformerEmbeddingFunction&#x27;</pre>"
      ]
     },
     "metadata": {},
     "output_type": "display_data"
    }
   ],
   "source": [
    "sent_trans_ef = embedding_functions.SentenceTransformerEmbeddingFunction(\n",
    "    model_name='all-mpnet-base-v2',\n",
    "    device='device'\n",
    ")\n",
    "\n",
    "sentence_chunker = SentenceChunker(sentences_per_chunk = 10)\n",
    "\n",
    "sent_trans_ef.__class__.__name__"
   ]
  },
  {
   "cell_type": "markdown",
   "id": "RGSE",
   "metadata": {
    "marimo": {
     "config": {
      "hide_code": true
     }
    }
   },
   "source": [
    "### Start General Evaluation"
   ]
  },
  {
   "cell_type": "code",
   "execution_count": null,
   "id": "Kclp",
   "metadata": {},
   "outputs": [
    {
     "name": "stderr",
     "output_type": "stream",
     "text": [
      "<span class=\"codehilite\"><div class=\"highlight\"><pre><span></span><span class=\"gt\">Traceback (most recent call last):</span>\n",
      "  File <span class=\"nb\">&quot;/home/saladass/crafts/rag-int14124-final/.venv/lib/python3.11/site-packages/marimo/_runtime/executor.py&quot;</span>, line <span class=\"m\">138</span>, in <span class=\"n\">execute_cell</span>\n",
      "<span class=\"w\">    </span><span class=\"n\">exec</span><span class=\"p\">(</span><span class=\"n\">cell</span><span class=\"o\">.</span><span class=\"n\">body</span><span class=\"p\">,</span> <span class=\"n\">glbls</span><span class=\"p\">)</span>\n",
      "  File <span class=\"nb\">&quot;/tmp/marimo_8279/__marimo__cell_HpiH_.py&quot;</span>, line <span class=\"m\">5</span>, in <span class=\"n\">&lt;module&gt;</span>\n",
      "<span class=\"w\">    </span><span class=\"n\">results</span> <span class=\"o\">=</span> <span class=\"n\">evaluation</span><span class=\"o\">.</span><span class=\"n\">run</span><span class=\"p\">(</span>\n",
      "<span class=\"w\">              </span><span class=\"pm\">^^^^^^^^^^^^^^^</span>\n",
      "  File <span class=\"nb\">&quot;/home/saladass/crafts/rag-int14124-final/.venv/lib/python3.11/site-packages/chunking_evaluation/evaluation_framework/base_evaluation.py&quot;</span>, line <span class=\"m\">417</span>, in <span class=\"n\">run</span>\n",
      "<span class=\"w\">    </span><span class=\"n\">iou_scores</span><span class=\"p\">,</span> <span class=\"n\">recall_scores</span><span class=\"p\">,</span> <span class=\"n\">precision_scores</span> <span class=\"o\">=</span> <span class=\"bp\">self</span><span class=\"o\">.</span><span class=\"n\">_scores_from_dataset_and_retrievals</span><span class=\"p\">(</span><span class=\"n\">retrievals</span><span class=\"p\">[</span><span class=\"s1\">&#39;metadatas&#39;</span><span class=\"p\">],</span> <span class=\"n\">highlighted_chunks_count</span><span class=\"p\">)</span>\n",
      "<span class=\"w\">                                                  </span><span class=\"pm\">^^^^^^^^^^^^^^^^^^^^^^^^^^^^^^^^^^^^^^^^^^^^^^^^^^^^^^^^^^^^^^^^^^^^^^^^^^^^^^^^^^^^^^^^^^^</span>\n",
      "  File <span class=\"nb\">&quot;/home/saladass/crafts/rag-int14124-final/.venv/lib/python3.11/site-packages/chunking_evaluation/evaluation_framework/base_evaluation.py&quot;</span>, line <span class=\"m\">272</span>, in <span class=\"n\">_scores_from_dataset_and_retrievals</span>\n",
      "<span class=\"w\">    </span><span class=\"n\">precision_score</span> <span class=\"o\">=</span> <span class=\"n\">numerator_value</span> <span class=\"o\">/</span> <span class=\"n\">precision_denominator</span>\n",
      "<span class=\"w\">                      </span><span class=\"pm\">~~~~~~~~~~~~~~~~^~~~~~~~~~~~~~~~~~~~~~~</span>\n",
      "<span class=\"gr\">ZeroDivisionError</span>: <span class=\"n\">division by zero</span>\n",
      "</pre></div>\n",
      "</span>"
     ]
    },
    {
     "name": "stdout",
     "output_type": "stream",
     "text": [
      "> /home/saladass/crafts/rag-int14124-final/.venv/lib/python3.11/site-packages/chunking_evaluation/evaluation_framework/base_evaluation.py(272)_scores_from_dataset_and_retrievals()\n",
      "-> precision_score = numerator_value / precision_denominator\n",
      "(Pdb) "
     ]
    },
    {
     "name": "stdout",
     "output_type": "stream",
     "text": [
      " where\n"
     ]
    },
    {
     "name": "stdout",
     "output_type": "stream",
     "text": [
      "  /home/saladass/crafts/rag-int14124-final/.venv/lib/python3.11/site-packages/marimo/_runtime/executor.py(138)execute_cell()\n",
      "-> exec(cell.body, glbls)\n",
      "  /tmp/marimo_8279/__marimo__cell_HpiH_.py(5)<module>()\n",
      "-> results = evaluation.run(\n",
      "  /home/saladass/crafts/rag-int14124-final/.venv/lib/python3.11/site-packages/chunking_evaluation/evaluation_framework/base_evaluation.py(417)run()\n",
      "-> iou_scores, recall_scores, precision_scores = self._scores_from_dataset_and_retrievals(retrievals['metadatas'], highlighted_chunks_count)\n",
      "> /home/saladass/crafts/rag-int14124-final/.venv/lib/python3.11/site-packages/chunking_evaluation/evaluation_framework/base_evaluation.py(272)_scores_from_dataset_and_retrievals()\n",
      "-> precision_score = numerator_value / precision_denominator\n",
      "(Pdb) "
     ]
    },
    {
     "name": "stdout",
     "output_type": "stream",
     "text": [
      " vals\n"
     ]
    },
    {
     "name": "stdout",
     "output_type": "stream",
     "text": [
      "*** NameError: name 'vals' is not defined\n",
      "(Pdb) "
     ]
    },
    {
     "name": "stdout",
     "output_type": "stream",
     "text": [
      " v\n"
     ]
    },
    {
     "name": "stdout",
     "output_type": "stream",
     "text": [
      "*** NameError: name 'v' is not defined\n",
      "(Pdb) "
     ]
    },
    {
     "name": "stdout",
     "output_type": "stream",
     "text": [
      " help\n"
     ]
    },
    {
     "name": "stdout",
     "output_type": "stream",
     "text": [
      "\n",
      "Documented commands (type help <topic>):\n",
      "========================================\n",
      "EOF    c          d        h         list      q        rv       undisplay\n",
      "a      cl         debug    help      ll        quit     s        unt      \n",
      "alias  clear      disable  ignore    longlist  r        source   until    \n",
      "args   commands   display  interact  n         restart  step     up       \n",
      "b      condition  down     j         next      return   tbreak   w        \n",
      "break  cont       enable   jump      p         retval   u        whatis   \n",
      "bt     continue   exit     l         pp        run      unalias  where    \n",
      "\n",
      "Miscellaneous help topics:\n",
      "==========================\n",
      "exec  pdb\n",
      "\n",
      "(Pdb) "
     ]
    },
    {
     "name": "stdout",
     "output_type": "stream",
     "text": [
      " rv\n"
     ]
    },
    {
     "name": "stdout",
     "output_type": "stream",
     "text": [
      "*** Not yet returned!\n",
      "(Pdb) "
     ]
    },
    {
     "name": "stdout",
     "output_type": "stream",
     "text": [
      " p\n"
     ]
    },
    {
     "name": "stdout",
     "output_type": "stream",
     "text": [
      "*** SyntaxError: invalid syntax\n",
      "(Pdb) "
     ]
    },
    {
     "name": "stdout",
     "output_type": "stream",
     "text": [
      " precision_denominator\n"
     ]
    },
    {
     "name": "stdout",
     "output_type": "stream",
     "text": [
      "0\n",
      "(Pdb) "
     ]
    },
    {
     "name": "stdout",
     "output_type": "stream",
     "text": [
      " denomiator_chunks_sets\n"
     ]
    },
    {
     "name": "stdout",
     "output_type": "stream",
     "text": [
      "*** NameError: name 'denomiator_chunks_sets' is not defined\n",
      "(Pdb) "
     ]
    },
    {
     "name": "stdout",
     "output_type": "stream",
     "text": [
      " numerator_sets\n"
     ]
    },
    {
     "name": "stdout",
     "output_type": "stream",
     "text": [
      "[]\n",
      "(Pdb) "
     ]
    },
    {
     "name": "stdout",
     "output_type": "stream",
     "text": [
      " denominator_chunks_sets\n"
     ]
    },
    {
     "name": "stdout",
     "output_type": "stream",
     "text": [
      "[]\n",
      "(Pdb) "
     ]
    }
   ],
   "source": [
    "\n",
    "evaluation = GeneralEvaluation()\n",
    "\n",
    "\n",
    "results = evaluation.run(\n",
    "    sentence_chunker, \n",
    "    sent_trans_ef,\n",
    "    db_to_save_chunks=\"datasets/general_evaluation/naive-configuration\"\n",
    ")\n"
   ]
  }
 ],
 "metadata": {},
 "nbformat": 4,
 "nbformat_minor": 5
}
